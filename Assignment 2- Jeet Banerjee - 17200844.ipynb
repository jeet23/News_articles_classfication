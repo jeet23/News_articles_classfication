{
 "cells": [
  {
   "cell_type": "markdown",
   "metadata": {},
   "source": [
    "# COMP41680 - Text Scraping Assignment\n",
    "## Name - JEET BANERJEE\n",
    "## Student Number - 17200844"
   ]
  },
  {
   "cell_type": "markdown",
   "metadata": {},
   "source": [
    "## Part 1. Data Collection"
   ]
  },
  {
   "cell_type": "markdown",
   "metadata": {},
   "source": [
    "### Import libraries and packages"
   ]
  },
  {
   "cell_type": "code",
   "execution_count": 1,
   "metadata": {
    "collapsed": true
   },
   "outputs": [],
   "source": [
    "import os\n",
    "import urllib.request\n",
    "from urllib.parse import urljoin\n",
    "import csv\n",
    "import pandas as pd \n",
    "import json\n",
    "import numpy as np\n",
    "import requests\n",
    "from bs4 import BeautifulSoup"
   ]
  },
  {
   "cell_type": "markdown",
   "metadata": {},
   "source": [
    "Data Collection for all news articles as present in http://mlg.ucd.ie/modules/COMP41680/archive/index.html"
   ]
  },
  {
   "cell_type": "code",
   "execution_count": 2,
   "metadata": {
    "collapsed": true
   },
   "outputs": [],
   "source": [
    "base_url = \"http://mlg.ucd.ie/modules/COMP41680/archive/\"\n",
    "index_url =\"index.html\"\n",
    "url = urljoin(base_url, index_url)"
   ]
  },
  {
   "cell_type": "markdown",
   "metadata": {},
   "source": [
    "Send Request to the URL and use BeautifulSoup package to extract the information using an HTML parser"
   ]
  },
  {
   "cell_type": "code",
   "execution_count": 3,
   "metadata": {
    "collapsed": true
   },
   "outputs": [],
   "source": [
    "response = urllib.request.urlopen(url).read()\n",
    "soup = BeautifulSoup(response, \"html.parser\")"
   ]
  },
  {
   "cell_type": "markdown",
   "metadata": {},
   "source": [
    "Method to initialise the Category CSV file and store the categories in the file"
   ]
  },
  {
   "cell_type": "code",
   "execution_count": 4,
   "metadata": {
    "collapsed": true
   },
   "outputs": [],
   "source": [
    "def create_new_category_file():\n",
    "    #initialise an empty file and truncate it\n",
    "    with open('category.csv', 'w') as file:\n",
    "        file.truncate()\n",
    "    file.close()\n",
    "    \n",
    "def create_category_labels(categories):\n",
    "    # store the category of each news article (in append mode of the file)\n",
    "    with open('category.csv', 'a') as file:\n",
    "        for c in categories:\n",
    "            category = c.get_text().strip()\n",
    "            # Get the category and store it only if it is not 'N/A'\n",
    "            if category != \"N/A\":\n",
    "                file.write(category)\n",
    "                file.write('\\n')\n",
    "    file.close()"
   ]
  },
  {
   "cell_type": "markdown",
   "metadata": {},
   "source": [
    "Method to create a text file for body of each news article."
   ]
  },
  {
   "cell_type": "code",
   "execution_count": 5,
   "metadata": {
    "collapsed": true
   },
   "outputs": [],
   "source": [
    "# Store the body of each news article\n",
    "def create_body_text_file(content, counter):\n",
    "    # Open the appropriate file using the counter value to get the file number\n",
    "    filename = \"file\" + str(counter) + \".txt\"\n",
    "    with open(filename, 'w') as file:\n",
    "        file.write(content)\n",
    "    file.close()"
   ]
  },
  {
   "cell_type": "markdown",
   "metadata": {},
   "source": [
    "Method to get contents of the body of each news article using the BeatifulSoup object"
   ]
  },
  {
   "cell_type": "code",
   "execution_count": 6,
   "metadata": {
    "collapsed": true
   },
   "outputs": [],
   "source": [
    "# get contents of the body of each news article from the soup object\n",
    "def get_body_contents_of_page(soup):\n",
    "    soup.find('p', class_='notice').decompose() # remove <p class=\"notice\"> content from each article\n",
    "    all_para = soup.find_all([\"p\",\"b\"]) # Find all <p> and <b> tags in the soup\n",
    "    body_of_page = \"\"\n",
    "    for para in all_para:\n",
    "        body_of_page+=(para.get_text()+\" \") # Append the text of all the title <b> and body <p> tags to a string\n",
    "    return body_of_page"
   ]
  },
  {
   "cell_type": "markdown",
   "metadata": {},
   "source": [
    "### Begin Web Scraping\n",
    "Find all links present in the Home page "
   ]
  },
  {
   "cell_type": "code",
   "execution_count": 7,
   "metadata": {
    "collapsed": true
   },
   "outputs": [],
   "source": [
    "home_page_links = soup.find_all(\"a\", href=True)\n",
    "# If a link contains an href, store it in an array called home_page_links\n",
    "home_page_links = [link for link in home_page_links if link['href']]"
   ]
  },
  {
   "cell_type": "markdown",
   "metadata": {},
   "source": [
    "Initialise the new file, loop for all home page links, and send request to each link in the home page.\n",
    "\n",
    "Then find all categories present in each link (corresponding to a month), and store all the categories in a CSV file.\n",
    "\n",
    "Next, for each month, there are a set of news articles present. So, we loop for each month and hit each URL for all the news articles, and extract the body of each news article. \n",
    "\n",
    "For each individual news article, we store the title and body contents of the article (contained in the paragraph `<p>` and bold `<b>` tags inside the HTML code) in one file.  We also remove unneccessary content (eg. `<p class=\"notice\">` from the content of the Beautiful Soup object).\n",
    "\n",
    "Similarly, for all other news articles, we create one new file per article and store the contents of that news article into the file.\n",
    "\n",
    "*Note: We again use Beautiful Soup's html parser to extract the links, content, body etc. from each web page present.*\n",
    "\n",
    "*We use a counter which is initally set to 0. For each news article found, we increment the counter and then store the news article in a file named file{Counter}.txt where Counter is the value of counter at that news article. So for news article number 6, the corresponding file is stored as file6.txt*"
   ]
  },
  {
   "cell_type": "code",
   "execution_count": 8,
   "metadata": {},
   "outputs": [],
   "source": [
    "create_new_category_file()\n",
    "file_counter = 0\n",
    "for link in home_page_links:\n",
    "    # Iterate over all the home page links\n",
    "    sub_url = link['href'] \n",
    "    new_url = urljoin(base_url, sub_url)\n",
    "    response = urllib.request.urlopen(new_url).read()\n",
    "    month_soup = BeautifulSoup(response, \"html.parser\")\n",
    "    my_categories = month_soup.findAll(\"td\", {\"class\": \"category\"})\n",
    "    # Find all categories present (month wise) and Store all the categories for that month\n",
    "    create_category_labels(my_categories)\n",
    "    month_articles_links = month_soup.find_all(\"a\")\n",
    "    # Extract all the links present in that month, except index.html base URL\n",
    "    month_articles_links = [slink for slink in month_articles_links if slink['href'] and slink['href'] != 'index.html']\n",
    "    for sub_link in month_articles_links:\n",
    "        # Iterate over each news article inside each month\n",
    "        article_link = urljoin(base_url, sub_link['href'])\n",
    "        article_response = urllib.request.urlopen(article_link).read()\n",
    "        article_soup = BeautifulSoup(article_response, \"html.parser\")\n",
    "        # Parse the html of the news article and get body contents of the news article\n",
    "        body_of_page = get_body_contents_of_page(article_soup)\n",
    "        # Increment a counter and pass it to the function to create a new file for that news article\n",
    "        file_counter += 1\n",
    "        create_body_text_file(body_of_page, file_counter)"
   ]
  },
  {
   "cell_type": "markdown",
   "metadata": {},
   "source": [
    "Get total number of files written. Also, get total number of categories saved in the CSV file."
   ]
  },
  {
   "cell_type": "code",
   "execution_count": 9,
   "metadata": {},
   "outputs": [
    {
     "name": "stdout",
     "output_type": "stream",
     "text": [
      "Total files written are: 1408\n",
      "Total categories extracted are: 1408\n",
      "*** Data Collection Successful *** \n"
     ]
    }
   ],
   "source": [
    "print(\"Total files written are:\",file_counter)\n",
    "\n",
    "category_array = pd.read_csv(\"category.csv\", header = None)\n",
    "print(\"Total categories extracted are:\",len(category_array))\n",
    "\n",
    "if(len(category_array) == file_counter):\n",
    "    print(\"*** Data Collection Successful *** \")\n",
    "else:\n",
    "    raise AssertionError(\"*** Mismatch during data collection *** \")"
   ]
  },
  {
   "cell_type": "markdown",
   "metadata": {},
   "source": [
    "## Part 2. Text Classification"
   ]
  },
  {
   "cell_type": "markdown",
   "metadata": {},
   "source": [
    "### Load the set of raw documents from all the files and create the corpus of text"
   ]
  },
  {
   "cell_type": "code",
   "execution_count": 10,
   "metadata": {
    "collapsed": true
   },
   "outputs": [],
   "source": [
    "corpus = []\n",
    "for i in range(1, file_counter+1):\n",
    "    # Loop from 1st file to last file, read it and repleace the newlines as whitespaces\n",
    "    filename = \"file\"+str(i)+\".txt\"\n",
    "    file = open(filename, \"r\", encoding = \"utf-8\")\n",
    "    text_in_file = file.read().replace('\\n',' ')\n",
    "    # Append the content of file in an array called corpus\n",
    "    corpus.append(text_in_file)"
   ]
  },
  {
   "cell_type": "markdown",
   "metadata": {},
   "source": [
    "Test if the corpus is correctly stored. First element of corpus should contain first news article."
   ]
  },
  {
   "cell_type": "code",
   "execution_count": 11,
   "metadata": {},
   "outputs": [
    {
     "data": {
      "text/plain": [
       "'21st-Century Sports: How Digital Technology Is Changing the Face Of The Sporting Industry  The sporting industry has come a long way since the ‘60s. It has carved out for itself a niche with its roots so deep that I cannot fathom the sports industry showing any sign of decline any time soon - or later.  The reason can be found in this seemingly subtle difference - other industries have customers; the sporting industry has fans. Vivek Ranadivé, leader of the ownership group of the NBA’s Sacramento Kings, explained it beautifully, “Fans will paint their face purple, fans will evangelize. ... Every other CEO in every business is dying to be in our position — they’re dying to have fans.“  While fan passion alone could almost certainly keep the industry going, leagues and sporting franchises have decided not to rest on their laurels. The last few years have seen the steady introduction of technology into the world of sports - amplifying fans’ appreciation of games, enhancing athletes’ public profiles and informing their training methods, even influencing how contests are waged.  Also, digital technology in particular has helped to create an alternative source of revenue, besides the games themselves - corporate sponsorship. They achieved this by capitalizing on the ardor of their customer base - sorry, fan base. '"
      ]
     },
     "execution_count": 11,
     "metadata": {},
     "output_type": "execute_result"
    }
   ],
   "source": [
    "corpus[0]"
   ]
  },
  {
   "cell_type": "markdown",
   "metadata": {},
   "source": [
    "### Load the categories of all the news articles"
   ]
  },
  {
   "cell_type": "code",
   "execution_count": 12,
   "metadata": {
    "collapsed": true
   },
   "outputs": [],
   "source": [
    "# Read the category.csv file using pandas\n",
    "category_array = pd.read_csv(\"category.csv\", header = None)"
   ]
  },
  {
   "cell_type": "markdown",
   "metadata": {},
   "source": [
    "**Note: Mapping between the news articles and their categories:**\n",
    "\n",
    "We have stored each news article as a file, and used a counter to increment the file number while saving an article. \n",
    "\n",
    "Also, we have extracted a list of categories for each month and stored it in *categories.csv* file, and kept appending that file for all the months.\n",
    "\n",
    "So, each rows of the CSV file contains the categories of news articles present in the same order as the news article itself.\n",
    "\n",
    "Hence, the each row of CSV file corresponds to that file{row} number. Example. if row 5 of the CSV file has label *sport*, then *file5.txt* contains the corresponding *sport news article* as present in the website. \n",
    "\n",
    "In this manner, we preserve the mapping between all the news articles and their categories. And we use this in our further analysis while creating the document-term matrix, and output class labels."
   ]
  },
  {
   "cell_type": "markdown",
   "metadata": {},
   "source": [
    "### Import Scikit-learn and NLTK packages"
   ]
  },
  {
   "cell_type": "code",
   "execution_count": 13,
   "metadata": {
    "collapsed": true
   },
   "outputs": [],
   "source": [
    "from sklearn.neighbors import KNeighborsClassifier\n",
    "from sklearn.tree import DecisionTreeClassifier\n",
    "from sklearn.svm import SVC\n",
    "from sklearn.naive_bayes import MultinomialNB\n",
    "from sklearn.model_selection import train_test_split\n",
    "from sklearn.metrics import accuracy_score, cohen_kappa_score\n",
    "from sklearn.model_selection import cross_val_score, GridSearchCV\n",
    "from sklearn.feature_extraction.text import CountVectorizer, TfidfVectorizer\n",
    "from sklearn.metrics import confusion_matrix, classification_report\n",
    "import seaborn as sns\n",
    "import matplotlib.pyplot as plt"
   ]
  },
  {
   "cell_type": "markdown",
   "metadata": {},
   "source": [
    "Define the custom lemmatizer tokenisation function used to stem the words and find out the root of a word"
   ]
  },
  {
   "cell_type": "code",
   "execution_count": 14,
   "metadata": {
    "collapsed": true
   },
   "outputs": [],
   "source": [
    "# define the function\n",
    "import nltk\n",
    "def lemma_tokenizer(text):\n",
    "    # use the standard scikit-learn tokenizer first\n",
    "    standard_tokenizer = CountVectorizer().build_tokenizer()\n",
    "    tokens = standard_tokenizer(text)\n",
    "    # then use NLTK to perform lemmatisation on each token\n",
    "    lemmatizer = nltk.stem.WordNetLemmatizer()\n",
    "    lemma_tokens = []\n",
    "    for token in tokens:\n",
    "        lemma_tokens.append( lemmatizer.lemmatize(token) )\n",
    "    return lemma_tokens"
   ]
  },
  {
   "cell_type": "markdown",
   "metadata": {},
   "source": [
    "###  Document-term matrix and Text Preprocessing\n",
    "1. Remove stopwords (words that do not convey useful information) by including the english stopword list from Scikit-learn.\n",
    "2. Low frequency filtering (Term weighting): Remove terms that appear in lesser than 5 documents - specifying min_df\n",
    "3. Stemming/Lemmatizing: Reduce words to their stems (or base forms)\n",
    "\n",
    "We use our custom tokenizer with the standard CountVectorizer approach\n",
    "\n",
    "As well as including/excluding terms, we can also modify or weight the frequency values themselves. We can improve the usefulness of the document-term matrix by giving more weight to the more \"important\" terms. So, we use a normalised form called *term frequency–inverse document frequency* and use TfidfVectorizer() instead of CountVectorizer().\n",
    "\n"
   ]
  },
  {
   "cell_type": "markdown",
   "metadata": {},
   "source": [
    "We use fit_transform to create the term-document matrix with rows as terms and columns as document number, and use it as our input features (X) for the dataset"
   ]
  },
  {
   "cell_type": "code",
   "execution_count": 15,
   "metadata": {
    "collapsed": true
   },
   "outputs": [],
   "source": [
    "# Initialise TfidfVectorizer object with stopwords, minimum frequency, and customer lemmatizer\n",
    "vectorizer = TfidfVectorizer(stop_words=\"english\",min_df = 5, tokenizer=lemma_tokenizer)\n",
    "# Learn the vocabulary dictionary and return term-document matrix\n",
    "X = vectorizer.fit_transform(corpus)\n",
    "# Convert Document-term matrix to array type\n",
    "X = X.toarray()"
   ]
  },
  {
   "cell_type": "markdown",
   "metadata": {},
   "source": [
    "Put the contents read from *category.csv* file into an numpy array to get the (Y) class labels for the dataset"
   ]
  },
  {
   "cell_type": "code",
   "execution_count": 16,
   "metadata": {
    "collapsed": true
   },
   "outputs": [],
   "source": [
    "y=np.array(category_array)"
   ]
  },
  {
   "cell_type": "markdown",
   "metadata": {},
   "source": [
    "We randomly split the complete dataset into a training test (used to build the model) and an unseen test set (used to try out and evaluate the model). \n",
    "We specify that 20% (0.2) of the data will be used for the test set and remaining 80% (0.8) for the training set."
   ]
  },
  {
   "cell_type": "code",
   "execution_count": 17,
   "metadata": {},
   "outputs": [
    {
     "name": "stdout",
     "output_type": "stream",
     "text": [
      "Training set size is: 1126\n",
      "Test set size is: 282\n"
     ]
    }
   ],
   "source": [
    "X_train, X_test, y_train, y_test = train_test_split(X, y, test_size=0.2)\n",
    "print(\"Training set size is: %d\" % X_train.shape[0] )\n",
    "print(\"Test set size is: %d\" % X_test.shape[0] )"
   ]
  },
  {
   "cell_type": "markdown",
   "metadata": {},
   "source": [
    "Checking if true labels are evenly distributed in the test data."
   ]
  },
  {
   "cell_type": "code",
   "execution_count": 18,
   "metadata": {},
   "outputs": [
    {
     "name": "stdout",
     "output_type": "stream",
     "text": [
      "****** Actual labels for Test set ******\n",
      "Number of news articles having true label as Sport: 101\n",
      "Number of news articles having true label as Business: 108\n",
      "Number of news articles having true label as Technology: 73\n"
     ]
    }
   ],
   "source": [
    "num_sport_true = (y_test == \"sport\").sum()\n",
    "num_business_true = (y_test == \"business\").sum()\n",
    "num_technology_true = (y_test == \"technology\").sum()\n",
    "print(\"****** Actual labels for Test set ******\")\n",
    "print( \"Number of news articles having true label as Sport: %d\" % num_sport_true )\n",
    "print( \"Number of news articles having true label as Business: %d\" % num_business_true )\n",
    "print( \"Number of news articles having true label as Technology: %d\" % num_technology_true )"
   ]
  },
  {
   "cell_type": "markdown",
   "metadata": {},
   "source": [
    "## Classifier 1 : Multi-class classification using Multinomial Naive Bayes classifier"
   ]
  },
  {
   "cell_type": "markdown",
   "metadata": {},
   "source": [
    "Using Naive Bayes classifier for multinomial models"
   ]
  },
  {
   "cell_type": "code",
   "execution_count": 19,
   "metadata": {
    "collapsed": true
   },
   "outputs": [],
   "source": [
    "# Initialise the Naive Bayes classifier for multinomial models with sensible set of hyper-parameters\n",
    "model_nb = MultinomialNB()"
   ]
  },
  {
   "cell_type": "markdown",
   "metadata": {},
   "source": [
    "Fit the model using X_train and y_train training input and labels."
   ]
  },
  {
   "cell_type": "code",
   "execution_count": 20,
   "metadata": {},
   "outputs": [
    {
     "data": {
      "text/plain": [
       "MultinomialNB(alpha=1.0, class_prior=None, fit_prior=True)"
      ]
     },
     "execution_count": 20,
     "metadata": {},
     "output_type": "execute_result"
    }
   ],
   "source": [
    "model_nb.fit(X_train, y_train.ravel())"
   ]
  },
  {
   "cell_type": "markdown",
   "metadata": {},
   "source": [
    "Predict on the model using the X_test test data."
   ]
  },
  {
   "cell_type": "code",
   "execution_count": 21,
   "metadata": {
    "collapsed": true
   },
   "outputs": [],
   "source": [
    "y_pred_nb = model_nb.predict(X_test)\n",
    "# print(\"Predictions\\n\", y_pred_nb)"
   ]
  },
  {
   "cell_type": "markdown",
   "metadata": {},
   "source": [
    "Print the details of Predicted news article class by examining the predicted results from the classifier"
   ]
  },
  {
   "cell_type": "code",
   "execution_count": 22,
   "metadata": {},
   "outputs": [
    {
     "name": "stdout",
     "output_type": "stream",
     "text": [
      "****** Naive Bayes news article classification for Test set ******\n",
      "Number of news articles classified as Sport: 100\n",
      "Number of news articles classified as Business: 108\n",
      "Number of news articles classified as Technology: 74\n"
     ]
    }
   ],
   "source": [
    "num_sport = (y_pred_nb == \"sport\").sum()\n",
    "num_business = (y_pred_nb == \"business\").sum()\n",
    "num_technology = (y_pred_nb == \"technology\").sum()\n",
    "print(\"****** Naive Bayes news article classification for Test set ******\")\n",
    "print( \"Number of news articles classified as Sport: %d\" % num_sport )\n",
    "print( \"Number of news articles classified as Business: %d\" % num_business )\n",
    "print( \"Number of news articles classified as Technology: %d\" % num_technology )"
   ]
  },
  {
   "cell_type": "markdown",
   "metadata": {},
   "source": [
    "### Evaluation of the model"
   ]
  },
  {
   "cell_type": "markdown",
   "metadata": {},
   "source": [
    "Find accuracy of the model on test set."
   ]
  },
  {
   "cell_type": "code",
   "execution_count": 23,
   "metadata": {},
   "outputs": [
    {
     "name": "stdout",
     "output_type": "stream",
     "text": [
      "Accuracy of Naive Bayes classifier on test set is 0.975177304964539\n"
     ]
    }
   ],
   "source": [
    "print(\"Accuracy of Naive Bayes classifier on test set is\" , accuracy_score(y_test, y_pred_nb))"
   ]
  },
  {
   "cell_type": "markdown",
   "metadata": {},
   "source": [
    "Measures from information retrieval (search engines) can be used in ML evaluation. \n",
    "- *Precision*: proportion of retrieved results that are relevant = TP/(TP+FP)\n",
    "- *Recall*: proportion of relevant results that are retrieved = TP/(TP+FN)\n",
    "- *F1 Score*: A weighted average of the precision and recall. The F1 Measure reaches its best value at 1 and worst at 0.\n",
    "\n",
    "    `F1 = 2 * (precision * recall) / (precision + recall)`\n",
    "\n",
    "We calculate Precision, Recall and F1 score for all three target classes (business, sport and technology) using classification_report provided by sklearn."
   ]
  },
  {
   "cell_type": "markdown",
   "metadata": {},
   "source": [
    "Classification Report showing Class wise Precision, Recall and F1 Score"
   ]
  },
  {
   "cell_type": "code",
   "execution_count": 24,
   "metadata": {},
   "outputs": [
    {
     "name": "stdout",
     "output_type": "stream",
     "text": [
      "************** Naive Bayes Classification Report **************\n",
      "             precision    recall  f1-score   support\n",
      "\n",
      "   business       0.97      0.97      0.97       108\n",
      "      sport       0.99      0.98      0.99       101\n",
      " technology       0.96      0.97      0.97        73\n",
      "\n",
      "avg / total       0.98      0.98      0.98       282\n",
      "\n"
     ]
    }
   ],
   "source": [
    "print(\"************** Naive Bayes Classification Report **************\")\n",
    "print(classification_report(y_test, y_pred_nb))"
   ]
  },
  {
   "cell_type": "markdown",
   "metadata": {},
   "source": [
    "Confusion Matrix showing True vs Predicted class"
   ]
  },
  {
   "cell_type": "code",
   "execution_count": 25,
   "metadata": {},
   "outputs": [
    {
     "name": "stdout",
     "output_type": "stream",
     "text": [
      "***** Naive Bayes Confusion matrix ******\n"
     ]
    },
    {
     "data": {
      "text/html": [
       "<div>\n",
       "<style>\n",
       "    .dataframe thead tr:only-child th {\n",
       "        text-align: right;\n",
       "    }\n",
       "\n",
       "    .dataframe thead th {\n",
       "        text-align: left;\n",
       "    }\n",
       "\n",
       "    .dataframe tbody tr th {\n",
       "        vertical-align: top;\n",
       "    }\n",
       "</style>\n",
       "<table border=\"1\" class=\"dataframe\">\n",
       "  <thead>\n",
       "    <tr style=\"text-align: right;\">\n",
       "      <th>Predicted</th>\n",
       "      <th>business</th>\n",
       "      <th>sport</th>\n",
       "      <th>technology</th>\n",
       "      <th>All</th>\n",
       "    </tr>\n",
       "    <tr>\n",
       "      <th>True</th>\n",
       "      <th></th>\n",
       "      <th></th>\n",
       "      <th></th>\n",
       "      <th></th>\n",
       "    </tr>\n",
       "  </thead>\n",
       "  <tbody>\n",
       "    <tr>\n",
       "      <th>business</th>\n",
       "      <td>105</td>\n",
       "      <td>0</td>\n",
       "      <td>3</td>\n",
       "      <td>108</td>\n",
       "    </tr>\n",
       "    <tr>\n",
       "      <th>sport</th>\n",
       "      <td>2</td>\n",
       "      <td>99</td>\n",
       "      <td>0</td>\n",
       "      <td>101</td>\n",
       "    </tr>\n",
       "    <tr>\n",
       "      <th>technology</th>\n",
       "      <td>1</td>\n",
       "      <td>1</td>\n",
       "      <td>71</td>\n",
       "      <td>73</td>\n",
       "    </tr>\n",
       "    <tr>\n",
       "      <th>All</th>\n",
       "      <td>108</td>\n",
       "      <td>100</td>\n",
       "      <td>74</td>\n",
       "      <td>282</td>\n",
       "    </tr>\n",
       "  </tbody>\n",
       "</table>\n",
       "</div>"
      ],
      "text/plain": [
       "Predicted   business  sport  technology  All\n",
       "True                                        \n",
       "business         105      0           3  108\n",
       "sport              2     99           0  101\n",
       "technology         1      1          71   73\n",
       "All              108    100          74  282"
      ]
     },
     "execution_count": 25,
     "metadata": {},
     "output_type": "execute_result"
    }
   ],
   "source": [
    "print(\"***** Naive Bayes Confusion matrix ******\")\n",
    "pd.crosstab(y_test.ravel(), y_pred_nb, rownames=['True'], colnames=['Predicted'], margins=True)"
   ]
  },
  {
   "cell_type": "markdown",
   "metadata": {},
   "source": [
    "### Cross Validation\n",
    "A problem with simply randomly splitting a dataset into two sets is that each random split might give different results. We are also ignoring a portion of your dataset. One way to address this is to use k-fold cross-validation to evaluate a classifier:\n",
    "\n",
    "Divide the data into k disjoint subsets - “folds” (e.g. k=10).\n",
    "For each of k experiments, use k-1 folds for training and the selected one fold for testing.\n",
    "Repeat for all k folds, average the accuracy/error rates."
   ]
  },
  {
   "cell_type": "code",
   "execution_count": 26,
   "metadata": {},
   "outputs": [
    {
     "name": "stdout",
     "output_type": "stream",
     "text": [
      "************* Accuracy calculated at each iteration of Cross validation *************\n",
      " [0.98601399 0.9929078  1.         0.9858156  0.96453901 0.97163121\n",
      " 0.97857143 0.98571429 0.99285714 0.95      ]\n"
     ]
    }
   ],
   "source": [
    "# apply 10-fold cross-validation, measuring accuracy across each fold\n",
    "accuracies_nb = cross_val_score(model_nb, X, y.ravel(), cv=10)\n",
    "print(\"************* Accuracy calculated at each iteration of Cross validation *************\\n\",accuracies_nb)"
   ]
  },
  {
   "cell_type": "markdown",
   "metadata": {},
   "source": [
    "Calculate the average accuracy across all folds:"
   ]
  },
  {
   "cell_type": "code",
   "execution_count": 27,
   "metadata": {},
   "outputs": [
    {
     "name": "stdout",
     "output_type": "stream",
     "text": [
      "Naive Bayes: Mean cross-validation accuracy = 0.98\n"
     ]
    }
   ],
   "source": [
    "# Display mean accuracy\n",
    "print(\"Naive Bayes: Mean cross-validation accuracy = %.2f\" % accuracies_nb.mean() )"
   ]
  },
  {
   "cell_type": "markdown",
   "metadata": {},
   "source": [
    "## Classifier 2 : Multi-class classification using K-Nearest Neighbour classifier"
   ]
  },
  {
   "cell_type": "markdown",
   "metadata": {},
   "source": [
    "Classifier using the k-nearest neighbors vote."
   ]
  },
  {
   "cell_type": "code",
   "execution_count": 28,
   "metadata": {
    "collapsed": true
   },
   "outputs": [],
   "source": [
    "# Initialise the KNN classifier with with sensible set of hyper-parameters\n",
    "model_knn = KNeighborsClassifier(n_neighbors=5)"
   ]
  },
  {
   "cell_type": "markdown",
   "metadata": {},
   "source": [
    "Fit the model using X_train and y_train training input and labels."
   ]
  },
  {
   "cell_type": "code",
   "execution_count": 29,
   "metadata": {},
   "outputs": [
    {
     "data": {
      "text/plain": [
       "KNeighborsClassifier(algorithm='auto', leaf_size=30, metric='minkowski',\n",
       "           metric_params=None, n_jobs=1, n_neighbors=5, p=2,\n",
       "           weights='uniform')"
      ]
     },
     "execution_count": 29,
     "metadata": {},
     "output_type": "execute_result"
    }
   ],
   "source": [
    "model_knn.fit(X_train, y_train.ravel())"
   ]
  },
  {
   "cell_type": "markdown",
   "metadata": {},
   "source": [
    "Predict on the model using the X_test test data."
   ]
  },
  {
   "cell_type": "code",
   "execution_count": 30,
   "metadata": {
    "collapsed": true
   },
   "outputs": [],
   "source": [
    "y_pred_knn = model_knn.predict(X_test)\n",
    "# print(\"Predictions\\n\", predicted)"
   ]
  },
  {
   "cell_type": "markdown",
   "metadata": {},
   "source": [
    "Print the details of Predicted news article class by examining the predicted results from the classifier"
   ]
  },
  {
   "cell_type": "code",
   "execution_count": 31,
   "metadata": {},
   "outputs": [
    {
     "name": "stdout",
     "output_type": "stream",
     "text": [
      "****** KNN news article classification for Test set ******\n",
      "Number of news articles classified as Sport: 99\n",
      "Number of news articles classified as Business: 107\n",
      "Number of news articles classified as Technology: 76\n"
     ]
    }
   ],
   "source": [
    "num_sport = (y_pred_knn == \"sport\").sum()\n",
    "num_business = (y_pred_knn == \"business\").sum()\n",
    "num_technology = (y_pred_knn == \"technology\").sum()\n",
    "print(\"****** KNN news article classification for Test set ******\")\n",
    "print( \"Number of news articles classified as Sport: %d\" % num_sport )\n",
    "print( \"Number of news articles classified as Business: %d\" % num_business )\n",
    "print( \"Number of news articles classified as Technology: %d\" % num_technology )"
   ]
  },
  {
   "cell_type": "markdown",
   "metadata": {},
   "source": [
    "### Evaluation of the model"
   ]
  },
  {
   "cell_type": "markdown",
   "metadata": {},
   "source": [
    "Find accuracy of the model on test set."
   ]
  },
  {
   "cell_type": "code",
   "execution_count": 32,
   "metadata": {
    "scrolled": false
   },
   "outputs": [
    {
     "name": "stdout",
     "output_type": "stream",
     "text": [
      "Accuracy of KNN classifier on test set is 0.9574468085106383\n"
     ]
    }
   ],
   "source": [
    "print(\"Accuracy of KNN classifier on test set is\" , accuracy_score(y_test, y_pred_knn))"
   ]
  },
  {
   "cell_type": "markdown",
   "metadata": {},
   "source": [
    "Classification Report showing Class wise Precision, Recall and F1 Score"
   ]
  },
  {
   "cell_type": "code",
   "execution_count": 33,
   "metadata": {},
   "outputs": [
    {
     "name": "stdout",
     "output_type": "stream",
     "text": [
      "************** KNN Classification Report **************\n",
      "             precision    recall  f1-score   support\n",
      "\n",
      "   business       0.96      0.95      0.96       108\n",
      "      sport       0.98      0.96      0.97       101\n",
      " technology       0.92      0.96      0.94        73\n",
      "\n",
      "avg / total       0.96      0.96      0.96       282\n",
      "\n"
     ]
    }
   ],
   "source": [
    "print(\"************** KNN Classification Report **************\")\n",
    "print(classification_report(y_test, y_pred_knn))"
   ]
  },
  {
   "cell_type": "markdown",
   "metadata": {},
   "source": [
    "Confusion Matrix showing True vs Predicted class"
   ]
  },
  {
   "cell_type": "code",
   "execution_count": 34,
   "metadata": {},
   "outputs": [
    {
     "name": "stdout",
     "output_type": "stream",
     "text": [
      "***** KNN Confusion matrix ******\n"
     ]
    },
    {
     "data": {
      "text/html": [
       "<div>\n",
       "<style>\n",
       "    .dataframe thead tr:only-child th {\n",
       "        text-align: right;\n",
       "    }\n",
       "\n",
       "    .dataframe thead th {\n",
       "        text-align: left;\n",
       "    }\n",
       "\n",
       "    .dataframe tbody tr th {\n",
       "        vertical-align: top;\n",
       "    }\n",
       "</style>\n",
       "<table border=\"1\" class=\"dataframe\">\n",
       "  <thead>\n",
       "    <tr style=\"text-align: right;\">\n",
       "      <th>Predicted</th>\n",
       "      <th>business</th>\n",
       "      <th>sport</th>\n",
       "      <th>technology</th>\n",
       "      <th>All</th>\n",
       "    </tr>\n",
       "    <tr>\n",
       "      <th>True</th>\n",
       "      <th></th>\n",
       "      <th></th>\n",
       "      <th></th>\n",
       "      <th></th>\n",
       "    </tr>\n",
       "  </thead>\n",
       "  <tbody>\n",
       "    <tr>\n",
       "      <th>business</th>\n",
       "      <td>103</td>\n",
       "      <td>1</td>\n",
       "      <td>4</td>\n",
       "      <td>108</td>\n",
       "    </tr>\n",
       "    <tr>\n",
       "      <th>sport</th>\n",
       "      <td>2</td>\n",
       "      <td>97</td>\n",
       "      <td>2</td>\n",
       "      <td>101</td>\n",
       "    </tr>\n",
       "    <tr>\n",
       "      <th>technology</th>\n",
       "      <td>2</td>\n",
       "      <td>1</td>\n",
       "      <td>70</td>\n",
       "      <td>73</td>\n",
       "    </tr>\n",
       "    <tr>\n",
       "      <th>All</th>\n",
       "      <td>107</td>\n",
       "      <td>99</td>\n",
       "      <td>76</td>\n",
       "      <td>282</td>\n",
       "    </tr>\n",
       "  </tbody>\n",
       "</table>\n",
       "</div>"
      ],
      "text/plain": [
       "Predicted   business  sport  technology  All\n",
       "True                                        \n",
       "business         103      1           4  108\n",
       "sport              2     97           2  101\n",
       "technology         2      1          70   73\n",
       "All              107     99          76  282"
      ]
     },
     "execution_count": 34,
     "metadata": {},
     "output_type": "execute_result"
    }
   ],
   "source": [
    "print(\"***** KNN Confusion matrix ******\")\n",
    "pd.crosstab(y_test.ravel(), y_pred_knn, rownames=['True'], colnames=['Predicted'], margins=True)"
   ]
  },
  {
   "cell_type": "markdown",
   "metadata": {},
   "source": [
    "### Cross Validation"
   ]
  },
  {
   "cell_type": "code",
   "execution_count": 35,
   "metadata": {},
   "outputs": [
    {
     "name": "stdout",
     "output_type": "stream",
     "text": [
      "************* Accuracy calculated at each iteration of Cross validation *************\n",
      " [0.96503497 0.95744681 0.9787234  0.95035461 0.94326241 0.95035461\n",
      " 0.97142857 0.96428571 0.94285714 0.95      ]\n"
     ]
    }
   ],
   "source": [
    "# apply 10-fold cross-validation, measuring accuracy across each fold\n",
    "accuracies_knn = cross_val_score(model_knn, X, y.ravel(), cv=10)\n",
    "print(\"************* Accuracy calculated at each iteration of Cross validation *************\\n\",accuracies_knn)"
   ]
  },
  {
   "cell_type": "markdown",
   "metadata": {},
   "source": [
    "Calculate the average accuracy across all folds:"
   ]
  },
  {
   "cell_type": "code",
   "execution_count": 36,
   "metadata": {},
   "outputs": [
    {
     "name": "stdout",
     "output_type": "stream",
     "text": [
      "KNN: Mean cross-validation accuracy = 0.96\n"
     ]
    }
   ],
   "source": [
    "# Display mean accuracy\n",
    "print(\"KNN: Mean cross-validation accuracy = %.2f\" % accuracies_knn.mean() )"
   ]
  },
  {
   "cell_type": "markdown",
   "metadata": {},
   "source": [
    "## Comparison of Two classification models"
   ]
  },
  {
   "cell_type": "markdown",
   "metadata": {},
   "source": [
    "### Boxplot of the cross validation accuracy scores between the Naive Bayes and KNN models"
   ]
  },
  {
   "cell_type": "code",
   "execution_count": 37,
   "metadata": {},
   "outputs": [
    {
     "data": {
      "image/png": "[encoded data removed]",
      "text/plain": [
       "<matplotlib.figure.Figure at 0x109b206a0>"
      ]
     },
     "metadata": {},
     "output_type": "display_data"
    }
   ],
   "source": [
    "data = [accuracies_nb, accuracies_knn]\n",
    "sns.boxplot(data=data, orient='v', width = 0.2, palette=\"Set3\")\n",
    "label = [\"Naive Bayes\", \"KNN\"]\n",
    "index = np.arange(len(label))\n",
    "plt.xticks(index, label)\n",
    "plt.xlabel(\"Model\")\n",
    "plt.ylabel(\"Accuracy\")\n",
    "plt.title(\"Boxplot representing the cross validation accuracy\")\n",
    "plt.show()"
   ]
  },
  {
   "cell_type": "markdown",
   "metadata": {},
   "source": [
    "The above boxplot illustrates that both the models performed really well and gave outstanding accuracies during the 10-fold cross validation. The mean accuracy for Naive Bayes is around 0.985 and for KNN is around 0.955.  Standard deviation for both the models are almost same. \n",
    "\n",
    "The spread of accuracy scores across each fold is better for Naive Bayes (lies between [0.95,1.0]) than KNN (lies between [0.943,0.978]). \n",
    "\n",
    "The overall lowest accuracy was found in KNN (0.943) whereas the highest accuracy was found in Naive Bayes (1.0). \n",
    "\n",
    "Similar ranges of the boxplots prove that there is no overfitting in either of the models, and cross-validation results has proven to give good results.\n",
    "\n",
    "Overall, Naive Bayes classifier wins against K-Nearest Neigbout classifier for this dataset.\n"
   ]
  },
  {
   "cell_type": "markdown",
   "metadata": {},
   "source": [
    "### Density plot of Cross validation accuracy of both models"
   ]
  },
  {
   "cell_type": "code",
   "execution_count": 38,
   "metadata": {},
   "outputs": [
    {
     "data": {
      "image/png": "[encoded data removed]",
      "text/plain": [
       "<matplotlib.figure.Figure at 0x109b1e0f0>"
      ]
     },
     "metadata": {},
     "output_type": "display_data"
    }
   ],
   "source": [
    "sns.distplot(accuracies_nb)\n",
    "sns.distplot(accuracies_knn)\n",
    "plt.legend([\"Naive Bayes\", \"KNN\"])\n",
    "plt.xlabel(\"Accuracy\")\n",
    "plt.ylabel(\"Density\")\n",
    "plt.title(\"Density plot of cross validation accuracy\")\n",
    "plt.show()"
   ]
  },
  {
   "cell_type": "markdown",
   "metadata": {},
   "source": [
    "The above density plot shows that the highest density for Naive Bayes was found near 0.985 accuracy, whereas for KNN was found near 0.95 accuracy. \n",
    "\n",
    "Standard deviation for both the models are almost same.\n",
    "\n",
    "The Gaussian curve for Naive Bayes lies to the right of the KNN's curve (the mean accuracy of Naive Bayes lies to the right of mean of KNN), proving better accuracy results for Naive Bayes."
   ]
  },
  {
   "cell_type": "markdown",
   "metadata": {},
   "source": [
    "We further calculate the Cohen's Kappa coefficient - a statistic that measures *inter-annotator agreement*. It is a score that depicts the level of agreement between two annotators on a classification problem. The value lies between [-1,1]."
   ]
  },
  {
   "cell_type": "code",
   "execution_count": 39,
   "metadata": {},
   "outputs": [
    {
     "name": "stdout",
     "output_type": "stream",
     "text": [
      "Cohen's Kappa Score between Naive Bayes and KNN is: 0.952\n"
     ]
    }
   ],
   "source": [
    "print(\"Cohen's Kappa Score between Naive Bayes and KNN is: %.3f\" % cohen_kappa_score(y_pred_knn, y_pred_nb))"
   ]
  },
  {
   "cell_type": "markdown",
   "metadata": {},
   "source": [
    "The score is *~0.96 (which is very near to 1)* indicates high level of agreement between the two models i.e. there is less diversity between them and hence both the models will make similar kind of prediction and would give quite identical results. Hence, these using a mix of these two models won't be suitable in an ensemble, and rather they should be used independently as individual classifiers."
   ]
  },
  {
   "cell_type": "markdown",
   "metadata": {},
   "source": [
    "Here, we list down a few more comparison statistics:\n",
    "\n",
    "| Statistic | Naive Bayes | K-Nearest Neighbour        \n",
    "| :- | :-| :-\n",
    "| Test set Accuracy| 97.5%  | 95.7%\n",
    "| Validation set accuracy: Mean | 98% | 96%\n",
    "| Validation set accuracy : Standard deviation | 0.01 | 0.01\n",
    "| Average Precision | 0.98 | 0.96\n",
    "| Average Recall | 0.98 | 0.96\n",
    "| Average F1 Score | 0.98 | 0.96\n",
    "| Count of (True Positives + True Negatives) | 275 | 270\n",
    "\n"
   ]
  },
  {
   "cell_type": "markdown",
   "metadata": {},
   "source": [
    "Cross validation mean accuracy is higher for Naive Bayes (97.5%) than KNN (95.7%). Both classifiers have better mean cross validation accuracy than their test accuracy, and it illustrates that there is no overfitting in the models, and they have been tuned very well.\n",
    "\n",
    "Average Precision for three target classes and Average Recall for three target classes is greater in case of Naive Bayes (0.98) than KNN (0.96). \n",
    "\n",
    "We see that both models have predicted the target labels quite well, and the predicted label counts are almost nearly equal to the actual label counts for both the models. Sum of True positive and True negative counts are higher in Naive Bayes, and hence Naive Bayes again gets an edge over KNN since the predicted labels more closely match to true labels."
   ]
  },
  {
   "cell_type": "markdown",
   "metadata": {},
   "source": [
    "On the basis of the above comparisons and visualisations, we can infer that ***Naive Bayes performs well and is a better classification model than K-Nearest neighbour for classifying news articles from the given website***.\n"
   ]
  }
 ],
 "metadata": {
  "kernelspec": {
   "display_name": "Python 3",
   "language": "python",
   "name": "python3"
  },
  "language_info": {
   "codemirror_mode": {
    "name": "ipython",
    "version": 3
   },
   "file_extension": ".py",
   "mimetype": "text/x-python",
   "name": "python",
   "nbconvert_exporter": "python",
   "pygments_lexer": "ipython3",
   "version": "3.6.1"
  }
 },
 "nbformat": 4,
 "nbformat_minor": 2
}
